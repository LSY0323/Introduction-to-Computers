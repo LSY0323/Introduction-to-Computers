{
  "nbformat": 4,
  "nbformat_minor": 0,
  "metadata": {
    "colab": {
      "provenance": [],
      "authorship_tag": "ABX9TyMmQnxCgn5Q1WFFDWpNACv1",
      "include_colab_link": true
    },
    "kernelspec": {
      "name": "python3",
      "display_name": "Python 3"
    },
    "language_info": {
      "name": "python"
    }
  },
  "cells": [
    {
      "cell_type": "markdown",
      "metadata": {
        "id": "view-in-github",
        "colab_type": "text"
      },
      "source": [
        "<a href=\"https://colab.research.google.com/github/LSY0323/Introduction-to-Computers/blob/main/0501.ipynb\" target=\"_parent\"><img src=\"https://colab.research.google.com/assets/colab-badge.svg\" alt=\"Open In Colab\"/></a>"
      ]
    },
    {
      "cell_type": "code",
      "execution_count": 1,
      "metadata": {
        "colab": {
          "base_uri": "https://localhost:8080/"
        },
        "id": "nOyKt3TPfXws",
        "outputId": "f5654560-720d-4cf6-ef0e-8548be2e4a83"
      },
      "outputs": [
        {
          "output_type": "stream",
          "name": "stdout",
          "text": [
            "Hello World\n"
          ]
        }
      ],
      "source": [
        "print (\"Hello World\")"
      ]
    },
    {
      "cell_type": "code",
      "source": [
        "n = 5\n",
        "total = sum(range(1, n+1))\n",
        "print(total)"
      ],
      "metadata": {
        "colab": {
          "base_uri": "https://localhost:8080/"
        },
        "id": "FiZRdDeyfe79",
        "outputId": "c7c13699-0538-4739-fa8c-7cb378b9b5d0"
      },
      "execution_count": 2,
      "outputs": [
        {
          "output_type": "stream",
          "name": "stdout",
          "text": [
            "15\n"
          ]
        }
      ]
    },
    {
      "cell_type": "code",
      "source": [
        "fahrenheit = 100\n",
        "celsius = (fahrenheit - 32) * 5 / 9\n",
        "print(\"攝氏溫度為：%.1f\" % celsius)"
      ],
      "metadata": {
        "colab": {
          "base_uri": "https://localhost:8080/"
        },
        "id": "_GVKI4u7fjxx",
        "outputId": "b18cedb6-57de-4872-c9ba-5c1d2136d679"
      },
      "execution_count": 3,
      "outputs": [
        {
          "output_type": "stream",
          "name": "stdout",
          "text": [
            "攝氏溫度為：37.8\n"
          ]
        }
      ]
    },
    {
      "cell_type": "code",
      "source": [
        "principal = 10000\n",
        "rate = 0.02\n",
        "years = 6\n",
        "balance = principal * (1 + rate) ** years\n",
        "print(\"6年後的本金為：%.8f\" % balance)"
      ],
      "metadata": {
        "colab": {
          "base_uri": "https://localhost:8080/"
        },
        "id": "ySJMcs6FflPq",
        "outputId": "4a7ab8e0-f20a-430e-e44d-4e27b5f75793"
      },
      "execution_count": 4,
      "outputs": [
        {
          "output_type": "stream",
          "name": "stdout",
          "text": [
            "6年後的本金為：11261.62419264\n"
          ]
        }
      ]
    }
  ]
}